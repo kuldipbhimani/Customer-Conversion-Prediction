{
 "cells": [
  {
   "cell_type": "markdown",
   "id": "d66923b3",
   "metadata": {},
   "source": [
    "# Final Project - Customer Conversion Prediction"
   ]
  },
  {
   "cell_type": "markdown",
   "id": "48297272",
   "metadata": {},
   "source": [
    "\n",
    "### \n",
    "### KULDIP BHIMANI\n",
    "### kuldipbhimani@gmail.com\n",
    "### Batch : DS41\n",
    "### Dataset : Provided by GUVI - IITM"
   ]
  },
  {
   "cell_type": "markdown",
   "id": "7ed11b8b",
   "metadata": {},
   "source": [
    "### "
   ]
  },
  {
   "cell_type": "markdown",
   "id": "5b3a53cc",
   "metadata": {},
   "source": [
    "#### Start with importing libraries wich we will use in the project."
   ]
  },
  {
   "cell_type": "code",
   "execution_count": 2,
   "id": "6ca0c789",
   "metadata": {},
   "outputs": [],
   "source": [
    "import pandas as pd\n",
    "\n",
    "import numpy as np                     \n",
    "\n",
    "import seaborn as sn                 \n",
    "\n",
    "import matplotlib.pyplot as plt\n",
    "%matplotlib inline\n",
    "\n",
    "\n",
    "# For ignore warnings\n",
    "import warnings\n",
    "warnings.filterwarnings(\"ignore\")"
   ]
  },
  {
   "cell_type": "markdown",
   "id": "8be56772",
   "metadata": {},
   "source": [
    "##### Import Data"
   ]
  },
  {
   "cell_type": "code",
   "execution_count": 3,
   "id": "79528170",
   "metadata": {},
   "outputs": [],
   "source": [
    "data = pd.read_csv(r\"C:\\Users\\kuldi\\Downloads\\GUVI - IITM Final Project\\Customer Conversion Prediction - Customer Conversion Prediction.csv\")"
   ]
  },
  {
   "cell_type": "code",
   "execution_count": 4,
   "id": "156ac29c",
   "metadata": {},
   "outputs": [
    {
     "data": {
      "text/html": [
       "<div>\n",
       "<style scoped>\n",
       "    .dataframe tbody tr th:only-of-type {\n",
       "        vertical-align: middle;\n",
       "    }\n",
       "\n",
       "    .dataframe tbody tr th {\n",
       "        vertical-align: top;\n",
       "    }\n",
       "\n",
       "    .dataframe thead th {\n",
       "        text-align: right;\n",
       "    }\n",
       "</style>\n",
       "<table border=\"1\" class=\"dataframe\">\n",
       "  <thead>\n",
       "    <tr style=\"text-align: right;\">\n",
       "      <th></th>\n",
       "      <th>age</th>\n",
       "      <th>job</th>\n",
       "      <th>marital</th>\n",
       "      <th>education_qual</th>\n",
       "      <th>call_type</th>\n",
       "      <th>day</th>\n",
       "      <th>mon</th>\n",
       "      <th>dur</th>\n",
       "      <th>num_calls</th>\n",
       "      <th>prev_outcome</th>\n",
       "      <th>y</th>\n",
       "    </tr>\n",
       "  </thead>\n",
       "  <tbody>\n",
       "    <tr>\n",
       "      <th>0</th>\n",
       "      <td>58</td>\n",
       "      <td>management</td>\n",
       "      <td>married</td>\n",
       "      <td>tertiary</td>\n",
       "      <td>unknown</td>\n",
       "      <td>5</td>\n",
       "      <td>may</td>\n",
       "      <td>261</td>\n",
       "      <td>1</td>\n",
       "      <td>unknown</td>\n",
       "      <td>no</td>\n",
       "    </tr>\n",
       "    <tr>\n",
       "      <th>1</th>\n",
       "      <td>44</td>\n",
       "      <td>technician</td>\n",
       "      <td>single</td>\n",
       "      <td>secondary</td>\n",
       "      <td>unknown</td>\n",
       "      <td>5</td>\n",
       "      <td>may</td>\n",
       "      <td>151</td>\n",
       "      <td>1</td>\n",
       "      <td>unknown</td>\n",
       "      <td>no</td>\n",
       "    </tr>\n",
       "    <tr>\n",
       "      <th>2</th>\n",
       "      <td>33</td>\n",
       "      <td>entrepreneur</td>\n",
       "      <td>married</td>\n",
       "      <td>secondary</td>\n",
       "      <td>unknown</td>\n",
       "      <td>5</td>\n",
       "      <td>may</td>\n",
       "      <td>76</td>\n",
       "      <td>1</td>\n",
       "      <td>unknown</td>\n",
       "      <td>no</td>\n",
       "    </tr>\n",
       "    <tr>\n",
       "      <th>3</th>\n",
       "      <td>47</td>\n",
       "      <td>blue-collar</td>\n",
       "      <td>married</td>\n",
       "      <td>unknown</td>\n",
       "      <td>unknown</td>\n",
       "      <td>5</td>\n",
       "      <td>may</td>\n",
       "      <td>92</td>\n",
       "      <td>1</td>\n",
       "      <td>unknown</td>\n",
       "      <td>no</td>\n",
       "    </tr>\n",
       "    <tr>\n",
       "      <th>4</th>\n",
       "      <td>33</td>\n",
       "      <td>unknown</td>\n",
       "      <td>single</td>\n",
       "      <td>unknown</td>\n",
       "      <td>unknown</td>\n",
       "      <td>5</td>\n",
       "      <td>may</td>\n",
       "      <td>198</td>\n",
       "      <td>1</td>\n",
       "      <td>unknown</td>\n",
       "      <td>no</td>\n",
       "    </tr>\n",
       "  </tbody>\n",
       "</table>\n",
       "</div>"
      ],
      "text/plain": [
       "   age           job  marital education_qual call_type  day  mon  dur  \\\n",
       "0   58    management  married       tertiary   unknown    5  may  261   \n",
       "1   44    technician   single      secondary   unknown    5  may  151   \n",
       "2   33  entrepreneur  married      secondary   unknown    5  may   76   \n",
       "3   47   blue-collar  married        unknown   unknown    5  may   92   \n",
       "4   33       unknown   single        unknown   unknown    5  may  198   \n",
       "\n",
       "   num_calls prev_outcome   y  \n",
       "0          1      unknown  no  \n",
       "1          1      unknown  no  \n",
       "2          1      unknown  no  \n",
       "3          1      unknown  no  \n",
       "4          1      unknown  no  "
      ]
     },
     "execution_count": 4,
     "metadata": {},
     "output_type": "execute_result"
    }
   ],
   "source": [
    "data.head()"
   ]
  },
  {
   "cell_type": "markdown",
   "id": "35466a08",
   "metadata": {},
   "source": [
    "Let's check the features present in our data and then we will look at data shape and data types."
   ]
  },
  {
   "cell_type": "code",
   "execution_count": 5,
   "id": "dd0ae643",
   "metadata": {},
   "outputs": [
    {
     "data": {
      "text/plain": [
       "Index(['age', 'job', 'marital', 'education_qual', 'call_type', 'day', 'mon',\n",
       "       'dur', 'num_calls', 'prev_outcome', 'y'],\n",
       "      dtype='object')"
      ]
     },
     "execution_count": 5,
     "metadata": {},
     "output_type": "execute_result"
    }
   ],
   "source": [
    "data.columns"
   ]
  },
  {
   "cell_type": "markdown",
   "id": "58475682",
   "metadata": {},
   "source": [
    "We have 17 independent variables and 1 target variable. Target variable = 'y'"
   ]
  },
  {
   "cell_type": "code",
   "execution_count": 6,
   "id": "99874be7",
   "metadata": {},
   "outputs": [
    {
     "data": {
      "text/plain": [
       "(45211, 11)"
      ]
     },
     "execution_count": 6,
     "metadata": {},
     "output_type": "execute_result"
    }
   ],
   "source": [
    "data.shape"
   ]
  },
  {
   "cell_type": "code",
   "execution_count": 7,
   "id": "b1c8c1b0",
   "metadata": {},
   "outputs": [
    {
     "data": {
      "text/plain": [
       "age                int64\n",
       "job               object\n",
       "marital           object\n",
       "education_qual    object\n",
       "call_type         object\n",
       "day                int64\n",
       "mon               object\n",
       "dur                int64\n",
       "num_calls          int64\n",
       "prev_outcome      object\n",
       "y                 object\n",
       "dtype: object"
      ]
     },
     "execution_count": 7,
     "metadata": {},
     "output_type": "execute_result"
    }
   ],
   "source": [
    "data.dtypes"
   ]
  },
  {
   "cell_type": "markdown",
   "id": "67ef68c7",
   "metadata": {},
   "source": [
    "e can see there are two format of data types:\n",
    "\n",
    "1. **object**: Object format means variables are categorical. Categorical variables in our dataset are: job, marital, education_qual, call_type, mon, prev_outcome, y.\n",
    "\n",
    "2. **int64**: It represents the integer variables. Integer variables in our dataset are: age, day, dur, num_calls"
   ]
  },
  {
   "cell_type": "code",
   "execution_count": null,
   "id": "82cff249",
   "metadata": {},
   "outputs": [],
   "source": []
  },
  {
   "cell_type": "markdown",
   "id": "32d798b7",
   "metadata": {},
   "source": [
    "## Univariate Analysis"
   ]
  },
  {
   "cell_type": "markdown",
   "id": "5e10b327",
   "metadata": {},
   "source": [
    "Let's look at our target variable 'y' first. It is catagorical variable. We'll see it's distribution."
   ]
  },
  {
   "cell_type": "code",
   "execution_count": 8,
   "id": "536cf8ba",
   "metadata": {},
   "outputs": [
    {
     "data": {
      "text/plain": [
       "no     39922\n",
       "yes     5289\n",
       "Name: y, dtype: int64"
      ]
     },
     "execution_count": 8,
     "metadata": {},
     "output_type": "execute_result"
    }
   ],
   "source": [
    "data['y'].value_counts()"
   ]
  },
  {
   "cell_type": "code",
   "execution_count": 9,
   "id": "991bb3d8",
   "metadata": {},
   "outputs": [
    {
     "data": {
      "text/plain": [
       "no     0.883015\n",
       "yes    0.116985\n",
       "Name: y, dtype: float64"
      ]
     },
     "execution_count": 9,
     "metadata": {},
     "output_type": "execute_result"
    }
   ],
   "source": [
    "# See the % distribution of the \"y\"\n",
    "data['y'].value_counts(normalize=True)"
   ]
  },
  {
   "cell_type": "code",
   "execution_count": 10,
   "id": "b1ab97a6",
   "metadata": {},
   "outputs": [
    {
     "data": {
      "text/plain": [
       "<AxesSubplot:>"
      ]
     },
     "execution_count": 10,
     "metadata": {},
     "output_type": "execute_result"
    },
    {
     "data": {
      "image/png": "[encoded data removed]",
      "text/plain": [
       "<Figure size 432x288 with 1 Axes>"
      ]
     },
     "metadata": {
      "needs_background": "light"
     },
     "output_type": "display_data"
    }
   ],
   "source": [
    "# Bar plot of freequencies\n",
    "data['y'].value_counts().plot.bar(color = np.random.rand(3,), ec='red')"
   ]
  },
  {
   "cell_type": "markdown",
   "id": "29f696ea",
   "metadata": {},
   "source": [
    "Here, We can see that 5289 users out of total 39922 have subscribed which is around 12%."
   ]
  },
  {
   "cell_type": "markdown",
   "id": "24355535",
   "metadata": {},
   "source": [
    "Let's now explore the variables to have a better understanding of the dataset"
   ]
  },
  {
   "cell_type": "markdown",
   "id": "c804614e",
   "metadata": {},
   "source": [
    "Let's first look at the distribution of age variable to see how many people belongs to a particular age group."
   ]
  },
  {
   "cell_type": "code",
   "execution_count": 11,
   "id": "2c5e304b",
   "metadata": {},
   "outputs": [
    {
     "data": {
      "text/plain": [
       "<seaborn.axisgrid.FacetGrid at 0x1c255c78e50>"
      ]
     },
     "execution_count": 11,
     "metadata": {},
     "output_type": "execute_result"
    },
    {
     "data": {
      "image/png": "[encoded data removed]",
      "text/plain": [
       "<Figure size 360x360 with 1 Axes>"
      ]
     },
     "metadata": {
      "needs_background": "light"
     },
     "output_type": "display_data"
    }
   ],
   "source": [
    "sn.displot(data[\"age\"], color=np.random.rand(3,))"
   ]
  },
  {
   "cell_type": "markdown",
   "id": "3046cbd0",
   "metadata": {},
   "source": [
    "Now, We can infer that most of the clients fall in the age group between 20-60."
   ]
  },
  {
   "cell_type": "markdown",
   "id": "517b853e",
   "metadata": {},
   "source": [
    "Now let's look at what are the different types of jobs of the clients. As job is a categorical variable, we will look at its frequency table."
   ]
  },
  {
   "cell_type": "code",
   "execution_count": 12,
   "id": "df152f52",
   "metadata": {},
   "outputs": [
    {
     "data": {
      "text/plain": [
       "<AxesSubplot:>"
      ]
     },
     "execution_count": 12,
     "metadata": {},
     "output_type": "execute_result"
    },
    {
     "data": {
      "image/png": "[encoded data removed]",
      "text/plain": [
       "<Figure size 432x288 with 1 Axes>"
      ]
     },
     "metadata": {
      "needs_background": "light"
     },
     "output_type": "display_data"
    }
   ],
   "source": [
    "data['job'].value_counts().plot.bar(color = np.random.rand(3,))"
   ]
  },
  {
   "cell_type": "markdown",
   "id": "f85a3df7",
   "metadata": {},
   "source": [
    "We see that most of the clients belongs to blue-collar job and the students are least in number as students generally do not take a term deposit."
   ]
  },
  {
   "cell_type": "markdown",
   "id": "5f745a46",
   "metadata": {},
   "source": [
    "Now, let's look at the education background of the customes."
   ]
  },
  {
   "cell_type": "code",
   "execution_count": 13,
   "id": "92d0ec35",
   "metadata": {},
   "outputs": [
    {
     "data": {
      "text/plain": [
       "<AxesSubplot:>"
      ]
     },
     "execution_count": 13,
     "metadata": {},
     "output_type": "execute_result"
    },
    {
     "data": {
      "image/png": "[encoded data removed]",
      "text/plain": [
       "<Figure size 432x288 with 1 Axes>"
      ]
     },
     "metadata": {
      "needs_background": "light"
     },
     "output_type": "display_data"
    }
   ],
   "source": [
    "data['education_qual'].value_counts().plot.bar(color = np.random.rand(3,))"
   ]
  },
  {
   "cell_type": "markdown",
   "id": "33dc76b6",
   "metadata": {},
   "source": [
    "We can see that most of our clients have secondary or tertiary level of education."
   ]
  },
  {
   "cell_type": "markdown",
   "id": "95a5d50c",
   "metadata": {},
   "source": [
    "### "
   ]
  },
  {
   "cell_type": "markdown",
   "id": "68942bf3",
   "metadata": {},
   "source": [
    "### Bivariate Analysis"
   ]
  },
  {
   "cell_type": "code",
   "execution_count": 14,
   "id": "3fb364a7",
   "metadata": {},
   "outputs": [
    {
     "name": "stdout",
     "output_type": "stream",
     "text": [
      "y                no   yes\n",
      "job                      \n",
      "admin.         4540   631\n",
      "blue-collar    9024   708\n",
      "entrepreneur   1364   123\n",
      "housemaid      1131   109\n",
      "management     8157  1301\n",
      "retired        1748   516\n",
      "self-employed  1392   187\n",
      "services       3785   369\n",
      "student         669   269\n",
      "technician     6757   840\n",
      "unemployed     1101   202\n",
      "unknown         254    34\n"
     ]
    },
    {
     "data": {
      "text/plain": [
       "Text(0, 0.5, 'Percentage')"
      ]
     },
     "execution_count": 14,
     "metadata": {},
     "output_type": "execute_result"
    },
    {
     "data": {
      "image/png": "[encoded data removed]",
      "text/plain": [
       "<Figure size 576x576 with 1 Axes>"
      ]
     },
     "metadata": {
      "needs_background": "light"
     },
     "output_type": "display_data"
    }
   ],
   "source": [
    "print(pd.crosstab(data['job'],data['y']))\n",
    "\n",
    "job=pd.crosstab(data['job'],data['y'])\n",
    "job.div(job.sum(1).astype(float), axis=0).plot(kind=\"bar\", stacked=True, figsize=(8,8))\n",
    "plt.xlabel('Job')\n",
    "plt.ylabel('Percentage')"
   ]
  },
  {
   "cell_type": "markdown",
   "id": "c167debb",
   "metadata": {},
   "source": [
    "From the above graph we can infer that students and retired people have higher chances of subscribing to a term deposit, which is surprising as students generally do not subscribe to a term deposit. The possible reason is that the number of students in the dataset is less and comparatively to other job types, more students have subscribed to a term deposit."
   ]
  },
  {
   "cell_type": "markdown",
   "id": "3b1df654",
   "metadata": {},
   "source": [
    "Next, let's explore the 'education_qual' variable against the 'y' variable."
   ]
  },
  {
   "cell_type": "code",
   "execution_count": 15,
   "id": "8cc23000",
   "metadata": {},
   "outputs": [
    {
     "name": "stdout",
     "output_type": "stream",
     "text": [
      "y                  no   yes\n",
      "education_qual             \n",
      "primary          6260   591\n",
      "secondary       20752  2450\n",
      "tertiary        11305  1996\n",
      "unknown          1605   252\n"
     ]
    },
    {
     "data": {
      "text/plain": [
       "Text(0, 0.5, 'Percentage')"
      ]
     },
     "execution_count": 15,
     "metadata": {},
     "output_type": "execute_result"
    },
    {
     "data": {
      "image/png": "[encoded data removed]",
      "text/plain": [
       "<Figure size 576x576 with 1 Axes>"
      ]
     },
     "metadata": {
      "needs_background": "light"
     },
     "output_type": "display_data"
    }
   ],
   "source": [
    "print(pd.crosstab(data['education_qual'],data['y']))\n",
    "\n",
    "education_qual=pd.crosstab(data['education_qual'],data['y'])\n",
    "education_qual.div(education_qual.sum(1).astype(float), axis=0).plot(kind=\"bar\", stacked=True, figsize=(8,8))\n",
    "plt.xlabel('education_qual')\n",
    "plt.ylabel('Percentage')"
   ]
  },
  {
   "cell_type": "markdown",
   "id": "d59d7171",
   "metadata": {},
   "source": [
    "We can infer that clients having education_qual : tertiary and unknown have slightly higher chances of subscribing to a insurance policy as compared to the other clients."
   ]
  },
  {
   "cell_type": "code",
   "execution_count": 16,
   "id": "7de0bf25",
   "metadata": {},
   "outputs": [
    {
     "name": "stdout",
     "output_type": "stream",
     "text": [
      "y            no   yes\n",
      "marital              \n",
      "divorced   4585   622\n",
      "married   24459  2755\n",
      "single    10878  1912\n"
     ]
    },
    {
     "data": {
      "text/plain": [
       "Text(0, 0.5, 'Percentage')"
      ]
     },
     "execution_count": 16,
     "metadata": {},
     "output_type": "execute_result"
    },
    {
     "data": {
      "image/png": "[encoded data removed]",
      "text/plain": [
       "<Figure size 576x576 with 1 Axes>"
      ]
     },
     "metadata": {
      "needs_background": "light"
     },
     "output_type": "display_data"
    }
   ],
   "source": [
    "print(pd.crosstab(data['marital'],data['y']))\n",
    "\n",
    "marital=pd.crosstab(data['marital'],data['y'])\n",
    "marital.div(marital.sum(1).astype(float), axis=0).plot(kind=\"bar\", stacked=True, figsize=(8,8))\n",
    "plt.xlabel('marital')\n",
    "plt.ylabel('Percentage')"
   ]
  },
  {
   "cell_type": "markdown",
   "id": "73ab92b8",
   "metadata": {},
   "source": [
    "Here, We can see that singles and divorced clients are likely to more subscribed to insurance policy than married clients."
   ]
  },
  {
   "cell_type": "markdown",
   "id": "06ffbdba",
   "metadata": {},
   "source": [
    "Let's now look at how correlated our numerical variables are. We will see the correlation between each of these variables and the variable which have high negative or positive values are correlated. By this we can get an overview of the variables which might affect our target variable. We will convert our target variable into numeric values first."
   ]
  },
  {
   "cell_type": "code",
   "execution_count": 17,
   "id": "2bccce35",
   "metadata": {},
   "outputs": [],
   "source": [
    "data['y'].replace('no', 0,inplace=True)\n",
    "data['y'].replace('yes', 1,inplace=True)"
   ]
  },
  {
   "cell_type": "code",
   "execution_count": 18,
   "id": "42eca1ea",
   "metadata": {},
   "outputs": [
    {
     "data": {
      "text/plain": [
       "<AxesSubplot:>"
      ]
     },
     "execution_count": 18,
     "metadata": {},
     "output_type": "execute_result"
    },
    {
     "data": {
      "image/png": "[encoded data removed]",
      "text/plain": [
       "<Figure size 1440x720 with 2 Axes>"
      ]
     },
     "metadata": {
      "needs_background": "light"
     },
     "output_type": "display_data"
    }
   ],
   "source": [
    "corr = data.corr()\n",
    "mask = np.array(corr)\n",
    "mask[np.tril_indices_from(mask)] = False\n",
    "fig,ax= plt.subplots()\n",
    "fig.set_size_inches(20,10)\n",
    "sn.heatmap(corr, mask=mask,vmax=.9, square=True,annot=True, cmap=\"YlGnBu\")"
   ]
  },
  {
   "cell_type": "markdown",
   "id": "4c197bb8",
   "metadata": {},
   "source": [
    "We can infer that duration of the call is highly correlated with the target variable. This can be verified as well. As the duration of the call is more, there are higher chances that the client is showing interest in the term deposit and hence there are higher chances that the client will subscribe to term deposit."
   ]
  },
  {
   "cell_type": "markdown",
   "id": "a34bb4cb",
   "metadata": {},
   "source": [
    "Next we will look for any missing values in the dataset."
   ]
  },
  {
   "cell_type": "code",
   "execution_count": 19,
   "id": "67ef097c",
   "metadata": {},
   "outputs": [
    {
     "data": {
      "text/plain": [
       "age               0\n",
       "job               0\n",
       "marital           0\n",
       "education_qual    0\n",
       "call_type         0\n",
       "day               0\n",
       "mon               0\n",
       "dur               0\n",
       "num_calls         0\n",
       "prev_outcome      0\n",
       "y                 0\n",
       "dtype: int64"
      ]
     },
     "execution_count": 19,
     "metadata": {},
     "output_type": "execute_result"
    }
   ],
   "source": [
    "data.isnull().sum()"
   ]
  },
  {
   "cell_type": "markdown",
   "id": "fce49e6a",
   "metadata": {},
   "source": [
    "There are no missing values in the dataset."
   ]
  },
  {
   "cell_type": "markdown",
   "id": "a4fcf1fd",
   "metadata": {},
   "source": [
    "As the sklearn models takes only numerical input, we will convert the categorical variables into numerical values using dummies. We'll apply dummies. We will also remove the target variable and keep it in a separate variable."
   ]
  },
  {
   "cell_type": "markdown",
   "id": "891cf0cd",
   "metadata": {},
   "source": [
    "### Model Building"
   ]
  },
  {
   "cell_type": "code",
   "execution_count": 20,
   "id": "dbb4aa02",
   "metadata": {},
   "outputs": [],
   "source": [
    "target = data['y']\n",
    "data = data.drop('y',1)"
   ]
  },
  {
   "cell_type": "markdown",
   "id": "f739c5a8",
   "metadata": {},
   "source": [
    "Apply dummies on dataset."
   ]
  },
  {
   "cell_type": "code",
   "execution_count": 21,
   "id": "70474274",
   "metadata": {},
   "outputs": [],
   "source": [
    "data = pd.get_dummies(data)"
   ]
  },
  {
   "cell_type": "markdown",
   "id": "30cf2bf4",
   "metadata": {},
   "source": [
    "#### "
   ]
  },
  {
   "cell_type": "markdown",
   "id": "61419288",
   "metadata": {},
   "source": [
    "We will split the train data into training and validation set so that we will be able to validate the results of our model on the validation set. We will keep 25% data as validation set and rest as the training set."
   ]
  },
  {
   "cell_type": "code",
   "execution_count": 22,
   "id": "f84b4dcd",
   "metadata": {},
   "outputs": [],
   "source": [
    "from sklearn.model_selection import train_test_split"
   ]
  },
  {
   "cell_type": "code",
   "execution_count": 23,
   "id": "5a38910e",
   "metadata": {},
   "outputs": [],
   "source": [
    "X_train, X_test, Y_train, Y_test = train_test_split(data, target, test_size = 0.25, random_state = 42)"
   ]
  },
  {
   "cell_type": "markdown",
   "id": "1eb04c7a",
   "metadata": {},
   "source": [
    "Now our data is ready. For classification problem we gonna use Logistic Regression Model. Let's build the model."
   ]
  },
  {
   "cell_type": "markdown",
   "id": "9362b6ac",
   "metadata": {},
   "source": [
    "#### \n",
    "### Logistic Regression"
   ]
  },
  {
   "cell_type": "code",
   "execution_count": 24,
   "id": "455e3527",
   "metadata": {},
   "outputs": [],
   "source": [
    "from sklearn.linear_model import LogisticRegression"
   ]
  },
  {
   "cell_type": "code",
   "execution_count": 25,
   "id": "2849fa2a",
   "metadata": {},
   "outputs": [],
   "source": [
    "lreg = LogisticRegression()"
   ]
  },
  {
   "cell_type": "code",
   "execution_count": 26,
   "id": "092dacf7",
   "metadata": {},
   "outputs": [
    {
     "data": {
      "text/plain": [
       "LogisticRegression()"
      ]
     },
     "execution_count": 26,
     "metadata": {},
     "output_type": "execute_result"
    }
   ],
   "source": [
    "# fiting the model on our data.\n",
    "lreg.fit(X_train,Y_train)"
   ]
  },
  {
   "cell_type": "code",
   "execution_count": 27,
   "id": "1e25c9a9",
   "metadata": {},
   "outputs": [],
   "source": [
    "L_pred = lreg.predict(X_test)"
   ]
  },
  {
   "cell_type": "markdown",
   "id": "53502060",
   "metadata": {},
   "source": [
    "##### \n",
    "Now we will evaluate how accurate our predictions are. As the evaluation metric for this problem is AUC-ROC, let's calculate the accuracy on test set."
   ]
  },
  {
   "cell_type": "code",
   "execution_count": 28,
   "id": "ca61d9aa",
   "metadata": {},
   "outputs": [],
   "source": [
    "from sklearn.metrics import roc_auc_score, accuracy_score"
   ]
  },
  {
   "cell_type": "code",
   "execution_count": 29,
   "id": "09fef5cd",
   "metadata": {},
   "outputs": [
    {
     "name": "stdout",
     "output_type": "stream",
     "text": [
      "Accuracy Score of Logistic Reg: 0.9\n"
     ]
    }
   ],
   "source": [
    "print(\"Accuracy Score of Logistic Reg:\",round(accuracy_score(Y_test, L_pred),2))"
   ]
  },
  {
   "cell_type": "code",
   "execution_count": 30,
   "id": "53ba7733",
   "metadata": {},
   "outputs": [
    {
     "name": "stdout",
     "output_type": "stream",
     "text": [
      "ROC AUC Score of Logistic Reg: 0.66\n"
     ]
    }
   ],
   "source": [
    "L_AUC_ROC = roc_auc_score(Y_test, L_pred)\n",
    "print(\"ROC AUC Score of Logistic Reg:\",round((L_AUC_ROC),2))"
   ]
  },
  {
   "cell_type": "markdown",
   "id": "dfa0005c",
   "metadata": {},
   "source": [
    "Here for better ROC AUC SCORE we'll use Decision Tree Classifier Model. It do not have liniarity bound so let's what'll get if our data have non linearity?"
   ]
  },
  {
   "cell_type": "markdown",
   "id": "95434dd8",
   "metadata": {},
   "source": [
    " ### Decision Tree Classifier"
   ]
  },
  {
   "cell_type": "code",
   "execution_count": 31,
   "id": "97d78635",
   "metadata": {},
   "outputs": [],
   "source": [
    "from sklearn.tree import DecisionTreeClassifier"
   ]
  },
  {
   "cell_type": "code",
   "execution_count": 32,
   "id": "6d63353d",
   "metadata": {},
   "outputs": [],
   "source": [
    "dtc = DecisionTreeClassifier(random_state=0, splitter='best')"
   ]
  },
  {
   "cell_type": "code",
   "execution_count": 33,
   "id": "d0acdbf2",
   "metadata": {},
   "outputs": [
    {
     "data": {
      "text/plain": [
       "DecisionTreeClassifier(random_state=0)"
      ]
     },
     "execution_count": 33,
     "metadata": {},
     "output_type": "execute_result"
    }
   ],
   "source": [
    "dtc.fit(X_train, Y_train)"
   ]
  },
  {
   "cell_type": "code",
   "execution_count": 34,
   "id": "04e8d6a6",
   "metadata": {},
   "outputs": [],
   "source": [
    "D_pred = dtc.predict(X_test)"
   ]
  },
  {
   "cell_type": "code",
   "execution_count": 35,
   "id": "92844368",
   "metadata": {},
   "outputs": [
    {
     "name": "stdout",
     "output_type": "stream",
     "text": [
      "Accuracy Score of Decision Tree Cl: 0.9\n"
     ]
    }
   ],
   "source": [
    "print(\"Accuracy Score of Decision Tree Cl:\",round(accuracy_score(Y_test, D_pred), 1))"
   ]
  },
  {
   "cell_type": "code",
   "execution_count": 36,
   "id": "10b9c73b",
   "metadata": {},
   "outputs": [
    {
     "name": "stdout",
     "output_type": "stream",
     "text": [
      "ROC AUC Score of Decision Tree Cl: 0.7\n"
     ]
    }
   ],
   "source": [
    "D_AUC_ROC = roc_auc_score(Y_test, D_pred)\n",
    "print(\"ROC AUC Score of Decision Tree Cl:\",round(D_AUC_ROC, 2))"
   ]
  },
  {
   "cell_type": "markdown",
   "id": "d4777b6c",
   "metadata": {},
   "source": [
    "#### \n",
    "### K Neighbors Classifier"
   ]
  },
  {
   "cell_type": "code",
   "execution_count": 37,
   "id": "d2233827",
   "metadata": {},
   "outputs": [],
   "source": [
    "from sklearn.neighbors import KNeighborsClassifier"
   ]
  },
  {
   "cell_type": "code",
   "execution_count": 38,
   "id": "a2f84262",
   "metadata": {},
   "outputs": [],
   "source": [
    "KNC = KNeighborsClassifier()"
   ]
  },
  {
   "cell_type": "code",
   "execution_count": 39,
   "id": "0ae9e435",
   "metadata": {},
   "outputs": [
    {
     "data": {
      "text/plain": [
       "KNeighborsClassifier()"
      ]
     },
     "execution_count": 39,
     "metadata": {},
     "output_type": "execute_result"
    }
   ],
   "source": [
    "KNC.fit(X_train, Y_train)"
   ]
  },
  {
   "cell_type": "code",
   "execution_count": 40,
   "id": "30ccc50f",
   "metadata": {},
   "outputs": [],
   "source": [
    "K_pred = KNC.predict(X_test)"
   ]
  },
  {
   "cell_type": "code",
   "execution_count": 41,
   "id": "95867404",
   "metadata": {},
   "outputs": [
    {
     "name": "stdout",
     "output_type": "stream",
     "text": [
      "Accuracy Score of K Neighbors Cl: 0.88\n"
     ]
    }
   ],
   "source": [
    "print(\"Accuracy Score of K Neighbors Cl:\",round(accuracy_score(Y_test, K_pred), 2))"
   ]
  },
  {
   "cell_type": "code",
   "execution_count": 42,
   "id": "6c20f33f",
   "metadata": {},
   "outputs": [
    {
     "name": "stdout",
     "output_type": "stream",
     "text": [
      "ROC AUC Score of K Neighbors Cl: 0.6\n"
     ]
    }
   ],
   "source": [
    "K_AUC_ROC = roc_auc_score(Y_test, K_pred)\n",
    "print(\"ROC AUC Score of K Neighbors Cl:\",round(K_AUC_ROC, 2))"
   ]
  },
  {
   "cell_type": "markdown",
   "id": "96b14009",
   "metadata": {},
   "source": [
    "#### \n",
    "##### "
   ]
  },
  {
   "cell_type": "markdown",
   "id": "708f5470",
   "metadata": {},
   "source": [
    "### "
   ]
  },
  {
   "cell_type": "markdown",
   "id": "23423fee",
   "metadata": {},
   "source": [
    "### Conclusion:"
   ]
  },
  {
   "cell_type": "markdown",
   "id": "2c1393b4",
   "metadata": {},
   "source": [
    "As our evalution metrix is **AUROC**. Here, we can see that our **Decision Tree Classifier** Model have **ROC AUC Score of 0.7** and as well as **Accuracy Score around 0.9**.\n",
    "\n",
    "So, We will use Desicion Tree Model and it'll predict output as much as 90% good. So it model's predicted output data will help our companies employ to direct target, agreeable or conversion clients more effectively and convert them to happy customer. So it'll save time of employ as well as company'.\n",
    "\n",
    "In the end this predictions will help company to run **time saver and cost effective** tele marketing campaigns with better customer conversion ratio.\n",
    "\n",
    "We can also design camaign were: employ will **connect to prospect clients first**, from the predicted output and successfully sell them term insurance."
   ]
  }
 ],
 "metadata": {
  "kernelspec": {
   "display_name": "Python 3 (ipykernel)",
   "language": "python",
   "name": "python3"
  },
  "language_info": {
   "codemirror_mode": {
    "name": "ipython",
    "version": 3
   },
   "file_extension": ".py",
   "mimetype": "text/x-python",
   "name": "python",
   "nbconvert_exporter": "python",
   "pygments_lexer": "ipython3",
   "version": "3.9.12"
  }
 },
 "nbformat": 4,
 "nbformat_minor": 5
}
